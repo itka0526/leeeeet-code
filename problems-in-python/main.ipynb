{
 "cells": [
  {
   "cell_type": "code",
   "execution_count": 3,
   "metadata": {},
   "outputs": [],
   "source": [
    "from typing import List\n",
    "self = None\n",
    "\n"
   ]
  },
  {
   "cell_type": "code",
   "execution_count": 5,
   "metadata": {},
   "outputs": [
    {
     "ename": "IndentationError",
     "evalue": "expected an indented block after 'if' statement on line 9 (2167325429.py, line 10)",
     "output_type": "error",
     "traceback": [
      "\u001b[0;36m  Cell \u001b[0;32mIn[5], line 10\u001b[0;36m\u001b[0m\n\u001b[0;31m    return res\u001b[0m\n\u001b[0m    ^\u001b[0m\n\u001b[0;31mIndentationError\u001b[0m\u001b[0;31m:\u001b[0m expected an indented block after 'if' statement on line 9\n"
     ]
    }
   ],
   "source": [
    "def combinationSum(self, candidates: List[int], target: int) -> List[List[int]]:\n",
    "        res: List[List[int]] = []\n",
    "        subset: List[int] = []\n",
    "\n",
    "        def dfs (idx: int, total: int):\n",
    "            if total == target:\n",
    "                res.append(subset.copy())\n",
    "                return\n",
    "            if idx >= len(candidates) or total > target: \n",
    "                 return \n",
    "            \n",
    "            subset.append(candidates[idx])\n",
    "            dfs(idx, total + candidates[idx])\n",
    "\n",
    "            subset.pop()\n",
    "            dfs(idx+1, total)\n",
    "        dfs(0, 0)\n",
    "        return res\n",
    "\n"
   ]
  },
  {
   "cell_type": "code",
   "execution_count": 8,
   "metadata": {},
   "outputs": [
    {
     "data": {
      "text/plain": [
       "-9"
      ]
     },
     "execution_count": 8,
     "metadata": {},
     "output_type": "execute_result"
    }
   ],
   "source": [
    "n = int(input()) # количество USB-портов\n",
    "m = int(input()) # количество USB-гаджетов.\n",
    "c2 = int(input()) # количество USB-гаджетов.\n",
    "c5 = int(input()) # количество USB-гаджетов.\n",
    "\n",
    "hubs = (m + 4) // 5 \n",
    "remaining_gadgets = m % 5\n",
    "splitters = (n - hubs * 2) // 2\n",
    "min = hubs * c2 + splitters * c5\n",
    "\n",
    "min"
   ]
  },
  {
   "cell_type": "code",
   "execution_count": 36,
   "metadata": {},
   "outputs": [
    {
     "name": "stdout",
     "output_type": "stream",
     "text": [
      "10\n"
     ]
    }
   ],
   "source": [
    "import math \n",
    "\n",
    "n = int(input())\n",
    "m = int(input()) \n",
    "c2 = int(input()) \n",
    "c5 = int(input()) \n",
    "\n",
    "hubs = math.ceil(n / 5)\n",
    "\n",
    "free_ports = n - hubs\n",
    "\n",
    "splitters = max(0, free_ports // 2)\n",
    "\n",
    "minimum_cost = hubs * c5 + splitters * c2\n",
    "\n",
    "print(minimum_cost)\n"
   ]
  },
  {
   "cell_type": "code",
   "execution_count": 32,
   "metadata": {},
   "outputs": [
    {
     "name": "stdout",
     "output_type": "stream",
     "text": [
      "5\n"
     ]
    }
   ],
   "source": [
    "n = int(input())\n",
    "m = int(input()) \n",
    "c2 = int(input()) \n",
    "c5 = int(input()) \n",
    "\n",
    "# Calculate the number of hubs.\n",
    "hubs = (n + 4) // 5\n",
    "\n",
    "# Calculate the number of free ports.\n",
    "free_ports = n - hubs\n",
    "\n",
    "# Calculate the number of splitters.\n",
    "splitters = free_ports // 2\n",
    "\n",
    "# Calculate the minimum cost.\n",
    "minimum_cost = hubs * 5 + splitters * 2\n",
    "\n",
    "print(minimum_cost)\n"
   ]
  },
  {
   "cell_type": "code",
   "execution_count": 46,
   "metadata": {},
   "outputs": [
    {
     "name": "stdout",
     "output_type": "stream",
     "text": [
      "5\n"
     ]
    }
   ],
   "source": [
    "def calculate_minimum_roughness(n, k, lengths):\n",
    "  lengths.sort()\n",
    "\n",
    "  min_length = lengths[0]\n",
    "  max_length = lengths[n - k -1]\n",
    "\n",
    "  return max_length - min_length\n",
    " \n",
    "\n",
    "# Read the input data.\n",
    "n, k = 7, 2\n",
    "lengths = [1, 11, 6, 41, 15, 13, 14]\n",
    "\n",
    "# Calculate the minimum roughness.\n",
    "minimum_roughness = calculate_minimum_roughness(n, k, lengths)\n",
    "\n",
    "# Print the output data.\n",
    "print(minimum_roughness)"
   ]
  },
  {
   "cell_type": "code",
   "execution_count": 40,
   "metadata": {},
   "outputs": [
    {
     "name": "stdout",
     "output_type": "stream",
     "text": [
      "-4\n"
     ]
    }
   ],
   "source": [
    "def min_roughness(n, k, li):\n",
    "  if k == n:\n",
    "    return float(\"inf\")\n",
    "\n",
    "  # Сортируем доски по длине.\n",
    "\n",
    "  li.sort()\n",
    "\n",
    "  # Находим минимальную неровность забора, используя все n-k досок.\n",
    "\n",
    "  min_roughness = li[k] - li[n - k - 1]\n",
    "\n",
    "  # Проходим по всем возможным комбинациям k досок, которые можно не использовать.\n",
    "\n",
    "  for i in range(k + 1):\n",
    "    for j in range(i + 1, k + 1):\n",
    "      # Находим неровность забора, используя только k - (i + j) досок.\n",
    "      new_roughness = li[i] - li[n - k + j - 1]\n",
    "      if new_roughness < min_roughness:\n",
    "        min_roughness = new_roughness\n",
    "\n",
    "  return min_roughness\n",
    "\n",
    "\n",
    "def main():\n",
    "  n, k = map(int, input().split())\n",
    "  li = list(map(int, input().split()))\n",
    "  print(min_roughness(n, k, li))\n",
    "\n",
    "main()"
   ]
  },
  {
   "cell_type": "code",
   "execution_count": 1,
   "metadata": {},
   "outputs": [
    {
     "data": {
      "text/plain": [
       "False"
      ]
     },
     "execution_count": 1,
     "metadata": {},
     "output_type": "execute_result"
    }
   ],
   "source": [
    "def is_closer_to_average(n, nums):\n",
    "    # Calculate the average of the numbers\n",
    "    average = sum(nums) / len(nums)\n",
    "\n",
    "    # Calculate the absolute difference between the given number and the average\n",
    "    diff_number = abs(n - average)\n",
    "\n",
    "    # Calculate the absolute differences between other numbers and the average\n",
    "    other_diffs = [abs(x - average) for x in nums]\n",
    "\n",
    "    # Check if the absolute difference of the given number is smaller than the others\n",
    "    return diff_number < min(other_diffs)\n",
    "\n",
    "# Example usage:\n",
    "nums = [10, 20, 30, 40, 50]\n",
    "n = 25\n",
    "\n",
    "result = is_closer_to_average(n, nums)\n",
    "result"
   ]
  }
 ],
 "metadata": {
  "kernelspec": {
   "display_name": "base",
   "language": "python",
   "name": "python3"
  },
  "language_info": {
   "codemirror_mode": {
    "name": "ipython",
    "version": 3
   },
   "file_extension": ".py",
   "mimetype": "text/x-python",
   "name": "python",
   "nbconvert_exporter": "python",
   "pygments_lexer": "ipython3",
   "version": "3.10.9"
  },
  "orig_nbformat": 4
 },
 "nbformat": 4,
 "nbformat_minor": 2
}
