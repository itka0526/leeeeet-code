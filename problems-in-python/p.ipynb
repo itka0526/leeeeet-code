{
 "cells": [
  {
   "cell_type": "code",
   "execution_count": 28,
   "metadata": {},
   "outputs": [
    {
     "name": "stdout",
     "output_type": "stream",
     "text": [
      "9\n",
      "4\n"
     ]
    }
   ],
   "source": [
    "def calc(n, k, l):\n",
    "    while k > 0:\n",
    "        average = sum(l) / n\n",
    "        max_deviation_board = max(l, key=lambda x: abs(x - average))\n",
    "        l.remove(max_deviation_board)\n",
    "        k -= 1\n",
    "        n -= 1 \n",
    "    l.sort()\n",
    "\n",
    "    return l[-1] - l[0]\n",
    "\n",
    "n, k = 7, 2\n",
    "l = [1, 11, 6, 41, 15, 13, 14]\n",
    "\n",
    "print(calc(n, k, l))\n",
    "print(calc(2, 0, [15, 19]))\n",
    "\n"
   ]
  }
 ],
 "metadata": {
  "kernelspec": {
   "display_name": "base",
   "language": "python",
   "name": "python3"
  },
  "language_info": {
   "codemirror_mode": {
    "name": "ipython",
    "version": 3
   },
   "file_extension": ".py",
   "mimetype": "text/x-python",
   "name": "python",
   "nbconvert_exporter": "python",
   "pygments_lexer": "ipython3",
   "version": "3.10.9"
  },
  "orig_nbformat": 4
 },
 "nbformat": 4,
 "nbformat_minor": 2
}
