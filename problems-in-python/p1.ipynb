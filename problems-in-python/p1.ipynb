{
 "cells": [
  {
   "cell_type": "code",
   "execution_count": 5,
   "metadata": {},
   "outputs": [
    {
     "ename": "ValueError",
     "evalue": "not enough values to unpack (expected 2, got 0)",
     "output_type": "error",
     "traceback": [
      "\u001b[0;31m---------------------------------------------------------------------------\u001b[0m",
      "\u001b[0;31mValueError\u001b[0m                                Traceback (most recent call last)",
      "\u001b[1;32m/Users/itgelt/Desktop/Leetcode/problems-in-python/p1.ipynb Cell 1\u001b[0m line \u001b[0;36m1\n\u001b[1;32m      <a href='vscode-notebook-cell:/Users/itgelt/Desktop/Leetcode/problems-in-python/p1.ipynb#W0sZmlsZQ%3D%3D?line=7'>8</a>\u001b[0m     l\u001b[39m.\u001b[39msort()\n\u001b[1;32m     <a href='vscode-notebook-cell:/Users/itgelt/Desktop/Leetcode/problems-in-python/p1.ipynb#W0sZmlsZQ%3D%3D?line=9'>10</a>\u001b[0m     \u001b[39mreturn\u001b[39;00m l[\u001b[39m-\u001b[39m\u001b[39m1\u001b[39m] \u001b[39m-\u001b[39m l[\u001b[39m0\u001b[39m]\n\u001b[0;32m---> <a href='vscode-notebook-cell:/Users/itgelt/Desktop/Leetcode/problems-in-python/p1.ipynb#W0sZmlsZQ%3D%3D?line=11'>12</a>\u001b[0m n, k \u001b[39m=\u001b[39m \u001b[39mmap\u001b[39m(\u001b[39mint\u001b[39m, \u001b[39minput\u001b[39m()\u001b[39m.\u001b[39msplit())\n\u001b[1;32m     <a href='vscode-notebook-cell:/Users/itgelt/Desktop/Leetcode/problems-in-python/p1.ipynb#W0sZmlsZQ%3D%3D?line=12'>13</a>\u001b[0m li \u001b[39m=\u001b[39m \u001b[39mlist\u001b[39m(\u001b[39mmap\u001b[39m(\u001b[39mint\u001b[39m, \u001b[39minput\u001b[39m()\u001b[39m.\u001b[39msplit()))\n\u001b[1;32m     <a href='vscode-notebook-cell:/Users/itgelt/Desktop/Leetcode/problems-in-python/p1.ipynb#W0sZmlsZQ%3D%3D?line=14'>15</a>\u001b[0m \u001b[39mprint\u001b[39m(calc(n, k, li))\n",
      "\u001b[0;31mValueError\u001b[0m: not enough values to unpack (expected 2, got 0)"
     ]
    }
   ],
   "source": [
    "def calc(n, k, l):\n",
    "    while k > 0:\n",
    "        avg = sum(l) / n\n",
    "        max_deviation_board = max(l, key=lambda x: abs(x - avg))\n",
    "        l.remove(max_deviation_board)\n",
    "        k -= 1\n",
    "        n -= 1 \n",
    "    l.sort()\n",
    "\n",
    "    return l[-1] - l[0]\n",
    "\n",
    "n, k = map(int, input().split())\n",
    "li = list(map(int, input().split()))\n",
    "\n",
    "print(calc(n, k, li))"
   ]
  }
 ],
 "metadata": {
  "kernelspec": {
   "display_name": "base",
   "language": "python",
   "name": "python3"
  },
  "language_info": {
   "codemirror_mode": {
    "name": "ipython",
    "version": 3
   },
   "file_extension": ".py",
   "mimetype": "text/x-python",
   "name": "python",
   "nbconvert_exporter": "python",
   "pygments_lexer": "ipython3",
   "version": "3.10.9"
  },
  "orig_nbformat": 4
 },
 "nbformat": 4,
 "nbformat_minor": 2
}
