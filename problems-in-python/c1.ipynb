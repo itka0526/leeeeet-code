{
 "cells": [
  {
   "cell_type": "code",
   "execution_count": 1,
   "metadata": {},
   "outputs": [
    {
     "ename": "ValueError",
     "evalue": "invalid literal for int() with base 10: '3 0 0 1'",
     "output_type": "error",
     "traceback": [
      "\u001b[0;31m---------------------------------------------------------------------------\u001b[0m",
      "\u001b[0;31mValueError\u001b[0m                                Traceback (most recent call last)",
      "\u001b[1;32m/Users/itgelt/Desktop/Leetcode/problems-in-python/c1.ipynb Cell 1\u001b[0m line \u001b[0;36m2\n\u001b[1;32m     <a href='vscode-notebook-cell:/Users/itgelt/Desktop/Leetcode/problems-in-python/c1.ipynb#W0sZmlsZQ%3D%3D?line=17'>18</a>\u001b[0m     \u001b[39mreturn\u001b[39;00m optimal_repo\n\u001b[1;32m     <a href='vscode-notebook-cell:/Users/itgelt/Desktop/Leetcode/problems-in-python/c1.ipynb#W0sZmlsZQ%3D%3D?line=19'>20</a>\u001b[0m \u001b[39m# Read input\u001b[39;00m\n\u001b[0;32m---> <a href='vscode-notebook-cell:/Users/itgelt/Desktop/Leetcode/problems-in-python/c1.ipynb#W0sZmlsZQ%3D%3D?line=20'>21</a>\u001b[0m N \u001b[39m=\u001b[39m \u001b[39mint\u001b[39;49m(\u001b[39minput\u001b[39;49m())\n\u001b[1;32m     <a href='vscode-notebook-cell:/Users/itgelt/Desktop/Leetcode/problems-in-python/c1.ipynb#W0sZmlsZQ%3D%3D?line=21'>22</a>\u001b[0m repo_tree \u001b[39m=\u001b[39m [\u001b[39mint\u001b[39m(\u001b[39minput\u001b[39m()) \u001b[39mfor\u001b[39;00m _ \u001b[39min\u001b[39;00m \u001b[39mrange\u001b[39m(N)]\n\u001b[1;32m     <a href='vscode-notebook-cell:/Users/itgelt/Desktop/Leetcode/problems-in-python/c1.ipynb#W0sZmlsZQ%3D%3D?line=23'>24</a>\u001b[0m \u001b[39m# Find the optimal repository\u001b[39;00m\n",
      "\u001b[0;31mValueError\u001b[0m: invalid literal for int() with base 10: '3 0 0 1'"
     ]
    }
   ],
   "source": [
    "def count_descendants(repo, repo_tree):\n",
    "    descendants = 0\n",
    "    for i in range(len(repo_tree)):\n",
    "        if repo_tree[i] == repo:\n",
    "            descendants += 1 + count_descendants(i, repo_tree)\n",
    "    return descendants\n",
    "\n",
    "def find_optimal_repo(N, repo_tree):\n",
    "    max_descendants = 0\n",
    "    optimal_repo = 0\n",
    "\n",
    "    for i in range(N):\n",
    "        descendants = count_descendants(i, repo_tree)\n",
    "        if descendants > max_descendants:\n",
    "            max_descendants = descendants\n",
    "            optimal_repo = i\n",
    "\n",
    "    return optimal_repo\n",
    "\n",
    "# Read input\n",
    "N = int(input())\n",
    "repo_tree = [int(input()) for _ in range(N)]\n",
    "\n",
    "# Find the optimal repository\n",
    "result = find_optimal_repo(N, repo_tree)\n",
    "\n",
    "# Output the result\n",
    "print(result)\n"
   ]
  }
 ],
 "metadata": {
  "kernelspec": {
   "display_name": "base",
   "language": "python",
   "name": "python3"
  },
  "language_info": {
   "codemirror_mode": {
    "name": "ipython",
    "version": 3
   },
   "file_extension": ".py",
   "mimetype": "text/x-python",
   "name": "python",
   "nbconvert_exporter": "python",
   "pygments_lexer": "ipython3",
   "version": "3.10.9"
  },
  "orig_nbformat": 4
 },
 "nbformat": 4,
 "nbformat_minor": 2
}
