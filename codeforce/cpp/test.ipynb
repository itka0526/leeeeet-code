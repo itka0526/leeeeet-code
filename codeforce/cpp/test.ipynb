{
 "cells": [
  {
   "cell_type": "code",
   "execution_count": 1,
   "metadata": {},
   "outputs": [],
   "source": [
    "def solve():\n",
    "    import sys\n",
    "\n",
    "    input = sys.stdin.read\n",
    "    data = input().split()\n",
    "\n",
    "    index = 0\n",
    "    t = int(data[index])\n",
    "    index += 1\n",
    "    results = []\n",
    "\n",
    "    for _ in range(t):\n",
    "        n = int(data[index])\n",
    "        k = int(data[index + 1])\n",
    "        index += 2\n",
    "\n",
    "        if k == 1:\n",
    "            results.append(f\"{n-1}\")\n",
    "            results.append(\" \".join(str(i) for i in range(2, n + 1)))\n",
    "            continue\n",
    "\n",
    "        a = []\n",
    "        current_sum = 0\n",
    "        i = 1\n",
    "        # Генерируем числа до тех пор, пока не превысим n и не обойдем k\n",
    "        while current_sum < n:\n",
    "            if current_sum + i != k and current_sum + i <= n:\n",
    "                a.append(i)\n",
    "                current_sum += i\n",
    "            i += 1\n",
    "\n",
    "        results.append(str(len(a)))\n",
    "        results.append(\" \".join(map(str, a)))\n",
    "\n",
    "    sys.stdout.write(\"\\n\".join(results) + \"\\n\")\n",
    "\n",
    "\n",
    "solve()"
   ]
  }
 ],
 "metadata": {
  "kernelspec": {
   "display_name": "Python 3",
   "language": "python",
   "name": "python3"
  },
  "language_info": {
   "codemirror_mode": {
    "name": "ipython",
    "version": 3
   },
   "file_extension": ".py",
   "mimetype": "text/x-python",
   "name": "python",
   "nbconvert_exporter": "python",
   "pygments_lexer": "ipython3",
   "version": "3.12.2"
  }
 },
 "nbformat": 4,
 "nbformat_minor": 2
}
